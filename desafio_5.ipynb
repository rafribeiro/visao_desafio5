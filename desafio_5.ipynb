{
 "cells": [
  {
   "cell_type": "markdown",
   "id": "cf563e5a",
   "metadata": {},
   "source": [
    "# Classificador de sexo biológico e etnia baseado em vetores de features de reconhecimento facial\n",
    "\n",
    "## A classificação não utiliza a imagem diretamente, mas apenas as features extraídas da imagem da face por uma rede neural convolucional treinada para reconhecimento facial, mas não para classificação de sexo ou etnia."
   ]
  },
  {
   "cell_type": "code",
   "execution_count": 1,
   "id": "ab59a9ce",
   "metadata": {},
   "outputs": [],
   "source": [
    "%%capture\n",
    "from deepface import DeepFace\n",
    "import torch\n",
    "from torch import nn, optim\n",
    "from PIL import Image\n",
    "from ipywidgets import widgets, VBox\n",
    "from IPython.display import display\n",
    "import io\n",
    "import requests\n",
    "import os"
   ]
  },
  {
   "cell_type": "code",
   "execution_count": null,
   "metadata": {},
   "outputs": [],
   "source": [
    "%%capture\n",
    "url = 'https://drive.google.com/uc?id=1UfTfreP0SyZJJSleM3VfSxuJbtDd9jer'\n",
    "dst = '/home/jovyan/.deepface/weights/facenet_weights.h5'\n",
    "r = requests.get(url, allow_redirects=True)\n",
    "open(dst, 'wb').write(r.content)"
   ]
  },
  {
   "cell_type": "markdown",
   "id": "21f4853b",
   "metadata": {},
   "source": [
    "### Arquitetura das redes treinadas\n",
    "D = número de dimensões do vetor de features (128 neste caso)\n",
    "\n",
    "H = 200, determinado empiricamente\n",
    "\n",
    "C = número de classes (2 para sexo biológico e 4 para etnia)\n",
    "\n",
    "model = nn.Sequential(\n",
    "        nn.Linear(D, H),\n",
    "        nn.ReLU(),\n",
    "        nn.Linear(H, H),\n",
    "        nn.ReLU(),\n",
    "        nn.Linear(H, H),\n",
    "        nn.ReLU(),\n",
    "        nn.Linear(H, H),\n",
    "        nn.ReLU(),\n",
    "        nn.Linear(H, C))"
   ]
  },
  {
   "cell_type": "code",
   "execution_count": 2,
   "id": "b796fa86",
   "metadata": {},
   "outputs": [],
   "source": [
    "%%capture\n",
    "device = torch.device('cpu')\n",
    "\n",
    "D = 128\n",
    "H = 200\n",
    "\n",
    "sex_model = nn.Sequential(\n",
    "        nn.Linear(D, H),\n",
    "        nn.ReLU(),\n",
    "        nn.Linear(H, H),\n",
    "        nn.ReLU(),\n",
    "        nn.Linear(H, H),\n",
    "        nn.ReLU(),\n",
    "        nn.Linear(H, H),\n",
    "        nn.ReLU(),\n",
    "        nn.Linear(H, 2)\n",
    "    )\n",
    "sex_model.to(device)\n",
    "\n",
    "race_model  = nn.Sequential(\n",
    "        nn.Linear(D, H),\n",
    "        nn.ReLU(),\n",
    "        nn.Linear(H, H),\n",
    "        nn.ReLU(),\n",
    "        nn.Linear(H, H),\n",
    "        nn.ReLU(),\n",
    "        nn.Linear(H, H),\n",
    "        nn.ReLU(),\n",
    "        nn.Linear(H, 4)\n",
    "    )\n",
    "race_model.to(device)\n",
    "\n",
    "sex_model_path = 'models/sex_from_features_train_facenet.pth'\n",
    "race_model_path = 'models/race_from_features_train_facenet.pth'\n",
    "\n",
    "sex_model.load_state_dict(torch.load(sex_model_path, map_location=device))\n",
    "race_model.load_state_dict(torch.load(race_model_path, map_location=device))\n",
    "\n",
    "sex_model.eval()\n",
    "race_model.eval()\n",
    "\n",
    "etnia = {0: 'Asiática', 1: 'Africana', 2: 'Indiana', 3: 'Caucasiana'}\n",
    "sexo = {0: 'Feminino', 1: 'Masculino'}"
   ]
  },
  {
   "cell_type": "code",
   "execution_count": 3,
   "id": "4d17b26f",
   "metadata": {},
   "outputs": [],
   "source": [
    "%%capture\n",
    "model_name = 'Facenet'\n",
    "det_model = 'ssd'\n",
    "model = DeepFace.build_model(model_name)"
   ]
  },
  {
   "cell_type": "code",
   "execution_count": 4,
   "id": "4e3b5743",
   "metadata": {},
   "outputs": [],
   "source": [
    "btn_run = widgets.Button(description='Classificar')\n",
    "lbl_pred = widgets.Label()\n",
    "out_pl = widgets.Output()\n",
    "btn_upload = widgets.FileUpload()"
   ]
  },
  {
   "cell_type": "code",
   "execution_count": 5,
   "id": "dd827fde",
   "metadata": {},
   "outputs": [],
   "source": [
    "def on_click_classify(change):\n",
    "    global pred_sexo\n",
    "    global pred_etnia\n",
    "    img_bytes = io.BytesIO(btn_upload.data[-1])\n",
    "    img = Image.open(img_bytes)\n",
    "    out_pl.clear_output()\n",
    "    with out_pl: display(img)\n",
    "    img.save('img_test.png')\n",
    "    features = DeepFace.represent(img_path = 'img_test.png', model_name = model_name, model = model, detector_backend = det_model)\n",
    "    X = torch.tensor(features).float()\n",
    "    pred_sexo = list(sex_model(X))\n",
    "    pred_etnia = list(race_model(X))\n",
    "    pred_sexo = pred_sexo.index(max(pred_sexo))\n",
    "    pred_etnia = pred_etnia.index(max(pred_etnia))\n",
    "    lbl_pred.value = f'Sexo: {sexo[pred_sexo]}  |  Etnia: {etnia[pred_etnia]}'\n",
    "\n",
    "btn_run.on_click(on_click_classify)"
   ]
  },
  {
   "cell_type": "code",
   "execution_count": 6,
   "id": "bcd0a958",
   "metadata": {},
   "outputs": [
    {
     "data": {
      "application/vnd.jupyter.widget-view+json": {
       "model_id": "338ffef62fea4c8a819b0d19fa66ab5f",
       "version_major": 2,
       "version_minor": 0
      },
      "text/plain": [
       "VBox(children=(Label(value='Escolha uma foto!'), FileUpload(value={}, description='Upload'), Button(descriptio…"
      ]
     },
     "metadata": {},
     "output_type": "display_data"
    }
   ],
   "source": [
    "VBox([widgets.Label('Escolha uma foto!'), \n",
    "      btn_upload, btn_run, out_pl, lbl_pred])"
   ]
  },
  {
   "cell_type": "code",
   "execution_count": null,
   "id": "a07a5e3a",
   "metadata": {},
   "outputs": [],
   "source": []
  }
 ],
 "metadata": {
  "kernelspec": {
   "display_name": "Python 3",
   "language": "python",
   "name": "python3"
  },
  "language_info": {
   "codemirror_mode": {
    "name": "ipython",
    "version": 3
   },
   "file_extension": ".py",
   "mimetype": "text/x-python",
   "name": "python",
   "nbconvert_exporter": "python",
   "pygments_lexer": "ipython3",
   "version": "3.8.5"
  }
 },
 "nbformat": 4,
 "nbformat_minor": 5
}
